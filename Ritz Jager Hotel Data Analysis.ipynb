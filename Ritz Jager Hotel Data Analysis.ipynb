{
 "cells": [
  {
   "cell_type": "markdown",
   "metadata": {},
   "source": [
    "Hotel operators in Ritz Jager Hotel want to improve their business efficiency by utilizing their historical data and they want to find out what happened in their previous bookings, knowing their customer better, and optimizing the promo timing. Data will be analyzed based on questions that have been predetermined by the CEO of the hotel.\n",
    "1.\tWhere do the guests come from?\n",
    "2.\tHow much do guests pay for a room per night?\n",
    "3.\tHow does the price per night vary over the year?\n",
    "4.\tWhich are the busiest months?\n",
    "5.\tHow long do people stay at the hotels?\n",
    "6.\tBookings by market segment\n",
    "7.\tHow many bookings were cancelled?\n",
    "8.\tWhich month has the highest number of cancellations?\n",
    "This analysis is done using Python (Jupyter Notebook). The libraries to be used are numpy, pandas, matplotlib, seaborn, and scipy.\n"
   ]
  },
  {
   "cell_type": "code",
   "execution_count": 1,
   "metadata": {},
   "outputs": [],
   "source": [
    "import warnings\n",
    "warnings.filterwarnings('ignore')"
   ]
  },
  {
   "cell_type": "code",
   "execution_count": 2,
   "metadata": {},
   "outputs": [],
   "source": [
    "import numpy as np\n",
    "import pandas as pd\n",
    "import matplotlib.pyplot as plt\n",
    "import seaborn as sns"
   ]
  },
  {
   "cell_type": "code",
   "execution_count": 3,
   "metadata": {},
   "outputs": [
    {
     "data": {
      "text/html": [
       "<div>\n",
       "<style scoped>\n",
       "    .dataframe tbody tr th:only-of-type {\n",
       "        vertical-align: middle;\n",
       "    }\n",
       "\n",
       "    .dataframe tbody tr th {\n",
       "        vertical-align: top;\n",
       "    }\n",
       "\n",
       "    .dataframe thead th {\n",
       "        text-align: right;\n",
       "    }\n",
       "</style>\n",
       "<table border=\"1\" class=\"dataframe\">\n",
       "  <thead>\n",
       "    <tr style=\"text-align: right;\">\n",
       "      <th></th>\n",
       "      <th>hotel_type</th>\n",
       "      <th>is_canceled</th>\n",
       "      <th>lead_time</th>\n",
       "      <th>arrival_date_year</th>\n",
       "      <th>arrival_date_month</th>\n",
       "      <th>arrival_date_week_number</th>\n",
       "      <th>arrival_date_day_of_month</th>\n",
       "      <th>stays_in_weekend_nights</th>\n",
       "      <th>stays_in_week_nights</th>\n",
       "      <th>adults</th>\n",
       "      <th>...</th>\n",
       "      <th>deposit_type</th>\n",
       "      <th>agent</th>\n",
       "      <th>company</th>\n",
       "      <th>days_in_waiting_list</th>\n",
       "      <th>customer_type</th>\n",
       "      <th>adr</th>\n",
       "      <th>required_car_parking_spaces</th>\n",
       "      <th>total_of_special_requests</th>\n",
       "      <th>reservation_status</th>\n",
       "      <th>reservation_status_date</th>\n",
       "    </tr>\n",
       "  </thead>\n",
       "  <tbody>\n",
       "    <tr>\n",
       "      <th>0</th>\n",
       "      <td>Resort Hotel</td>\n",
       "      <td>0</td>\n",
       "      <td>342</td>\n",
       "      <td>2015</td>\n",
       "      <td>July</td>\n",
       "      <td>27</td>\n",
       "      <td>1</td>\n",
       "      <td>0</td>\n",
       "      <td>0</td>\n",
       "      <td>2</td>\n",
       "      <td>...</td>\n",
       "      <td>No Deposit</td>\n",
       "      <td>NaN</td>\n",
       "      <td>NaN</td>\n",
       "      <td>0</td>\n",
       "      <td>Transient</td>\n",
       "      <td>0.00</td>\n",
       "      <td>0</td>\n",
       "      <td>0</td>\n",
       "      <td>Check-Out</td>\n",
       "      <td>1/7/2015</td>\n",
       "    </tr>\n",
       "    <tr>\n",
       "      <th>1</th>\n",
       "      <td>Resort Hotel</td>\n",
       "      <td>0</td>\n",
       "      <td>737</td>\n",
       "      <td>2015</td>\n",
       "      <td>July</td>\n",
       "      <td>27</td>\n",
       "      <td>1</td>\n",
       "      <td>0</td>\n",
       "      <td>0</td>\n",
       "      <td>2</td>\n",
       "      <td>...</td>\n",
       "      <td>No Deposit</td>\n",
       "      <td>NaN</td>\n",
       "      <td>NaN</td>\n",
       "      <td>0</td>\n",
       "      <td>Transient</td>\n",
       "      <td>0.00</td>\n",
       "      <td>0</td>\n",
       "      <td>0</td>\n",
       "      <td>Check-Out</td>\n",
       "      <td>1/7/2015</td>\n",
       "    </tr>\n",
       "    <tr>\n",
       "      <th>2</th>\n",
       "      <td>Resort Hotel</td>\n",
       "      <td>0</td>\n",
       "      <td>7</td>\n",
       "      <td>2015</td>\n",
       "      <td>July</td>\n",
       "      <td>27</td>\n",
       "      <td>1</td>\n",
       "      <td>0</td>\n",
       "      <td>1</td>\n",
       "      <td>1</td>\n",
       "      <td>...</td>\n",
       "      <td>No Deposit</td>\n",
       "      <td>NaN</td>\n",
       "      <td>NaN</td>\n",
       "      <td>0</td>\n",
       "      <td>Transient</td>\n",
       "      <td>75.00</td>\n",
       "      <td>0</td>\n",
       "      <td>0</td>\n",
       "      <td>Check-Out</td>\n",
       "      <td>2/7/2015</td>\n",
       "    </tr>\n",
       "    <tr>\n",
       "      <th>3</th>\n",
       "      <td>Resort Hotel</td>\n",
       "      <td>0</td>\n",
       "      <td>13</td>\n",
       "      <td>2015</td>\n",
       "      <td>July</td>\n",
       "      <td>27</td>\n",
       "      <td>1</td>\n",
       "      <td>0</td>\n",
       "      <td>1</td>\n",
       "      <td>1</td>\n",
       "      <td>...</td>\n",
       "      <td>No Deposit</td>\n",
       "      <td>304.0</td>\n",
       "      <td>NaN</td>\n",
       "      <td>0</td>\n",
       "      <td>Transient</td>\n",
       "      <td>75.00</td>\n",
       "      <td>0</td>\n",
       "      <td>0</td>\n",
       "      <td>Check-Out</td>\n",
       "      <td>2/7/2015</td>\n",
       "    </tr>\n",
       "    <tr>\n",
       "      <th>4</th>\n",
       "      <td>Resort Hotel</td>\n",
       "      <td>0</td>\n",
       "      <td>14</td>\n",
       "      <td>2015</td>\n",
       "      <td>July</td>\n",
       "      <td>27</td>\n",
       "      <td>1</td>\n",
       "      <td>0</td>\n",
       "      <td>2</td>\n",
       "      <td>2</td>\n",
       "      <td>...</td>\n",
       "      <td>No Deposit</td>\n",
       "      <td>240.0</td>\n",
       "      <td>NaN</td>\n",
       "      <td>0</td>\n",
       "      <td>Transient</td>\n",
       "      <td>98.00</td>\n",
       "      <td>0</td>\n",
       "      <td>1</td>\n",
       "      <td>Check-Out</td>\n",
       "      <td>3/7/2015</td>\n",
       "    </tr>\n",
       "    <tr>\n",
       "      <th>5</th>\n",
       "      <td>Resort Hotel</td>\n",
       "      <td>0</td>\n",
       "      <td>14</td>\n",
       "      <td>2015</td>\n",
       "      <td>July</td>\n",
       "      <td>27</td>\n",
       "      <td>1</td>\n",
       "      <td>0</td>\n",
       "      <td>2</td>\n",
       "      <td>2</td>\n",
       "      <td>...</td>\n",
       "      <td>No Deposit</td>\n",
       "      <td>240.0</td>\n",
       "      <td>NaN</td>\n",
       "      <td>0</td>\n",
       "      <td>Transient</td>\n",
       "      <td>98.00</td>\n",
       "      <td>0</td>\n",
       "      <td>1</td>\n",
       "      <td>Check-Out</td>\n",
       "      <td>3/7/2015</td>\n",
       "    </tr>\n",
       "    <tr>\n",
       "      <th>6</th>\n",
       "      <td>Resort Hotel</td>\n",
       "      <td>0</td>\n",
       "      <td>0</td>\n",
       "      <td>2015</td>\n",
       "      <td>July</td>\n",
       "      <td>27</td>\n",
       "      <td>1</td>\n",
       "      <td>0</td>\n",
       "      <td>2</td>\n",
       "      <td>2</td>\n",
       "      <td>...</td>\n",
       "      <td>No Deposit</td>\n",
       "      <td>NaN</td>\n",
       "      <td>NaN</td>\n",
       "      <td>0</td>\n",
       "      <td>Transient</td>\n",
       "      <td>107.00</td>\n",
       "      <td>0</td>\n",
       "      <td>0</td>\n",
       "      <td>Check-Out</td>\n",
       "      <td>3/7/2015</td>\n",
       "    </tr>\n",
       "    <tr>\n",
       "      <th>7</th>\n",
       "      <td>Resort Hotel</td>\n",
       "      <td>0</td>\n",
       "      <td>9</td>\n",
       "      <td>2015</td>\n",
       "      <td>July</td>\n",
       "      <td>27</td>\n",
       "      <td>1</td>\n",
       "      <td>0</td>\n",
       "      <td>2</td>\n",
       "      <td>2</td>\n",
       "      <td>...</td>\n",
       "      <td>No Deposit</td>\n",
       "      <td>303.0</td>\n",
       "      <td>NaN</td>\n",
       "      <td>0</td>\n",
       "      <td>Transient</td>\n",
       "      <td>103.00</td>\n",
       "      <td>0</td>\n",
       "      <td>1</td>\n",
       "      <td>Check-Out</td>\n",
       "      <td>3/7/2015</td>\n",
       "    </tr>\n",
       "    <tr>\n",
       "      <th>8</th>\n",
       "      <td>Resort Hotel</td>\n",
       "      <td>1</td>\n",
       "      <td>85</td>\n",
       "      <td>2015</td>\n",
       "      <td>July</td>\n",
       "      <td>27</td>\n",
       "      <td>1</td>\n",
       "      <td>0</td>\n",
       "      <td>3</td>\n",
       "      <td>2</td>\n",
       "      <td>...</td>\n",
       "      <td>No Deposit</td>\n",
       "      <td>240.0</td>\n",
       "      <td>NaN</td>\n",
       "      <td>0</td>\n",
       "      <td>Transient</td>\n",
       "      <td>82.00</td>\n",
       "      <td>0</td>\n",
       "      <td>1</td>\n",
       "      <td>Canceled</td>\n",
       "      <td>6/5/2015</td>\n",
       "    </tr>\n",
       "    <tr>\n",
       "      <th>9</th>\n",
       "      <td>Resort Hotel</td>\n",
       "      <td>1</td>\n",
       "      <td>75</td>\n",
       "      <td>2015</td>\n",
       "      <td>July</td>\n",
       "      <td>27</td>\n",
       "      <td>1</td>\n",
       "      <td>0</td>\n",
       "      <td>3</td>\n",
       "      <td>2</td>\n",
       "      <td>...</td>\n",
       "      <td>No Deposit</td>\n",
       "      <td>15.0</td>\n",
       "      <td>NaN</td>\n",
       "      <td>0</td>\n",
       "      <td>Transient</td>\n",
       "      <td>105.50</td>\n",
       "      <td>0</td>\n",
       "      <td>0</td>\n",
       "      <td>Canceled</td>\n",
       "      <td>22/4/2015</td>\n",
       "    </tr>\n",
       "    <tr>\n",
       "      <th>10</th>\n",
       "      <td>Resort Hotel</td>\n",
       "      <td>1</td>\n",
       "      <td>23</td>\n",
       "      <td>2015</td>\n",
       "      <td>July</td>\n",
       "      <td>27</td>\n",
       "      <td>1</td>\n",
       "      <td>0</td>\n",
       "      <td>4</td>\n",
       "      <td>2</td>\n",
       "      <td>...</td>\n",
       "      <td>No Deposit</td>\n",
       "      <td>240.0</td>\n",
       "      <td>NaN</td>\n",
       "      <td>0</td>\n",
       "      <td>Transient</td>\n",
       "      <td>123.00</td>\n",
       "      <td>0</td>\n",
       "      <td>0</td>\n",
       "      <td>Canceled</td>\n",
       "      <td>23/6/2015</td>\n",
       "    </tr>\n",
       "    <tr>\n",
       "      <th>11</th>\n",
       "      <td>Resort Hotel</td>\n",
       "      <td>0</td>\n",
       "      <td>35</td>\n",
       "      <td>2015</td>\n",
       "      <td>July</td>\n",
       "      <td>27</td>\n",
       "      <td>1</td>\n",
       "      <td>0</td>\n",
       "      <td>4</td>\n",
       "      <td>2</td>\n",
       "      <td>...</td>\n",
       "      <td>No Deposit</td>\n",
       "      <td>240.0</td>\n",
       "      <td>NaN</td>\n",
       "      <td>0</td>\n",
       "      <td>Transient</td>\n",
       "      <td>145.00</td>\n",
       "      <td>0</td>\n",
       "      <td>0</td>\n",
       "      <td>Check-Out</td>\n",
       "      <td>5/7/2015</td>\n",
       "    </tr>\n",
       "    <tr>\n",
       "      <th>12</th>\n",
       "      <td>Resort Hotel</td>\n",
       "      <td>0</td>\n",
       "      <td>68</td>\n",
       "      <td>2015</td>\n",
       "      <td>July</td>\n",
       "      <td>27</td>\n",
       "      <td>1</td>\n",
       "      <td>0</td>\n",
       "      <td>4</td>\n",
       "      <td>2</td>\n",
       "      <td>...</td>\n",
       "      <td>No Deposit</td>\n",
       "      <td>240.0</td>\n",
       "      <td>NaN</td>\n",
       "      <td>0</td>\n",
       "      <td>Transient</td>\n",
       "      <td>97.00</td>\n",
       "      <td>0</td>\n",
       "      <td>3</td>\n",
       "      <td>Check-Out</td>\n",
       "      <td>5/7/2015</td>\n",
       "    </tr>\n",
       "    <tr>\n",
       "      <th>13</th>\n",
       "      <td>Resort Hotel</td>\n",
       "      <td>0</td>\n",
       "      <td>18</td>\n",
       "      <td>2015</td>\n",
       "      <td>July</td>\n",
       "      <td>27</td>\n",
       "      <td>1</td>\n",
       "      <td>0</td>\n",
       "      <td>4</td>\n",
       "      <td>2</td>\n",
       "      <td>...</td>\n",
       "      <td>No Deposit</td>\n",
       "      <td>241.0</td>\n",
       "      <td>NaN</td>\n",
       "      <td>0</td>\n",
       "      <td>Transient</td>\n",
       "      <td>154.77</td>\n",
       "      <td>0</td>\n",
       "      <td>1</td>\n",
       "      <td>Check-Out</td>\n",
       "      <td>5/7/2015</td>\n",
       "    </tr>\n",
       "    <tr>\n",
       "      <th>14</th>\n",
       "      <td>Resort Hotel</td>\n",
       "      <td>0</td>\n",
       "      <td>37</td>\n",
       "      <td>2015</td>\n",
       "      <td>July</td>\n",
       "      <td>27</td>\n",
       "      <td>1</td>\n",
       "      <td>0</td>\n",
       "      <td>4</td>\n",
       "      <td>2</td>\n",
       "      <td>...</td>\n",
       "      <td>No Deposit</td>\n",
       "      <td>241.0</td>\n",
       "      <td>NaN</td>\n",
       "      <td>0</td>\n",
       "      <td>Transient</td>\n",
       "      <td>94.71</td>\n",
       "      <td>0</td>\n",
       "      <td>0</td>\n",
       "      <td>Check-Out</td>\n",
       "      <td>5/7/2015</td>\n",
       "    </tr>\n",
       "    <tr>\n",
       "      <th>15</th>\n",
       "      <td>Resort Hotel</td>\n",
       "      <td>0</td>\n",
       "      <td>68</td>\n",
       "      <td>2015</td>\n",
       "      <td>July</td>\n",
       "      <td>27</td>\n",
       "      <td>1</td>\n",
       "      <td>0</td>\n",
       "      <td>4</td>\n",
       "      <td>2</td>\n",
       "      <td>...</td>\n",
       "      <td>No Deposit</td>\n",
       "      <td>240.0</td>\n",
       "      <td>NaN</td>\n",
       "      <td>0</td>\n",
       "      <td>Transient</td>\n",
       "      <td>97.00</td>\n",
       "      <td>0</td>\n",
       "      <td>3</td>\n",
       "      <td>Check-Out</td>\n",
       "      <td>5/7/2015</td>\n",
       "    </tr>\n",
       "    <tr>\n",
       "      <th>16</th>\n",
       "      <td>Resort Hotel</td>\n",
       "      <td>0</td>\n",
       "      <td>37</td>\n",
       "      <td>2015</td>\n",
       "      <td>July</td>\n",
       "      <td>27</td>\n",
       "      <td>1</td>\n",
       "      <td>0</td>\n",
       "      <td>4</td>\n",
       "      <td>2</td>\n",
       "      <td>...</td>\n",
       "      <td>No Deposit</td>\n",
       "      <td>8.0</td>\n",
       "      <td>NaN</td>\n",
       "      <td>0</td>\n",
       "      <td>Contract</td>\n",
       "      <td>97.50</td>\n",
       "      <td>0</td>\n",
       "      <td>0</td>\n",
       "      <td>Check-Out</td>\n",
       "      <td>5/7/2015</td>\n",
       "    </tr>\n",
       "    <tr>\n",
       "      <th>17</th>\n",
       "      <td>Resort Hotel</td>\n",
       "      <td>0</td>\n",
       "      <td>12</td>\n",
       "      <td>2015</td>\n",
       "      <td>July</td>\n",
       "      <td>27</td>\n",
       "      <td>1</td>\n",
       "      <td>0</td>\n",
       "      <td>1</td>\n",
       "      <td>2</td>\n",
       "      <td>...</td>\n",
       "      <td>No Deposit</td>\n",
       "      <td>240.0</td>\n",
       "      <td>NaN</td>\n",
       "      <td>0</td>\n",
       "      <td>Transient</td>\n",
       "      <td>88.20</td>\n",
       "      <td>0</td>\n",
       "      <td>0</td>\n",
       "      <td>Check-Out</td>\n",
       "      <td>2/7/2015</td>\n",
       "    </tr>\n",
       "    <tr>\n",
       "      <th>18</th>\n",
       "      <td>Resort Hotel</td>\n",
       "      <td>0</td>\n",
       "      <td>0</td>\n",
       "      <td>2015</td>\n",
       "      <td>July</td>\n",
       "      <td>27</td>\n",
       "      <td>1</td>\n",
       "      <td>0</td>\n",
       "      <td>1</td>\n",
       "      <td>2</td>\n",
       "      <td>...</td>\n",
       "      <td>No Deposit</td>\n",
       "      <td>NaN</td>\n",
       "      <td>110.0</td>\n",
       "      <td>0</td>\n",
       "      <td>Transient</td>\n",
       "      <td>107.42</td>\n",
       "      <td>0</td>\n",
       "      <td>0</td>\n",
       "      <td>Check-Out</td>\n",
       "      <td>2/7/2015</td>\n",
       "    </tr>\n",
       "    <tr>\n",
       "      <th>19</th>\n",
       "      <td>Resort Hotel</td>\n",
       "      <td>0</td>\n",
       "      <td>7</td>\n",
       "      <td>2015</td>\n",
       "      <td>July</td>\n",
       "      <td>27</td>\n",
       "      <td>1</td>\n",
       "      <td>0</td>\n",
       "      <td>4</td>\n",
       "      <td>2</td>\n",
       "      <td>...</td>\n",
       "      <td>No Deposit</td>\n",
       "      <td>250.0</td>\n",
       "      <td>NaN</td>\n",
       "      <td>0</td>\n",
       "      <td>Transient</td>\n",
       "      <td>153.00</td>\n",
       "      <td>0</td>\n",
       "      <td>1</td>\n",
       "      <td>Check-Out</td>\n",
       "      <td>5/7/2015</td>\n",
       "    </tr>\n",
       "  </tbody>\n",
       "</table>\n",
       "<p>20 rows × 32 columns</p>\n",
       "</div>"
      ],
      "text/plain": [
       "      hotel_type  is_canceled  lead_time  arrival_date_year  \\\n",
       "0   Resort Hotel            0        342               2015   \n",
       "1   Resort Hotel            0        737               2015   \n",
       "2   Resort Hotel            0          7               2015   \n",
       "3   Resort Hotel            0         13               2015   \n",
       "4   Resort Hotel            0         14               2015   \n",
       "5   Resort Hotel            0         14               2015   \n",
       "6   Resort Hotel            0          0               2015   \n",
       "7   Resort Hotel            0          9               2015   \n",
       "8   Resort Hotel            1         85               2015   \n",
       "9   Resort Hotel            1         75               2015   \n",
       "10  Resort Hotel            1         23               2015   \n",
       "11  Resort Hotel            0         35               2015   \n",
       "12  Resort Hotel            0         68               2015   \n",
       "13  Resort Hotel            0         18               2015   \n",
       "14  Resort Hotel            0         37               2015   \n",
       "15  Resort Hotel            0         68               2015   \n",
       "16  Resort Hotel            0         37               2015   \n",
       "17  Resort Hotel            0         12               2015   \n",
       "18  Resort Hotel            0          0               2015   \n",
       "19  Resort Hotel            0          7               2015   \n",
       "\n",
       "   arrival_date_month  arrival_date_week_number  arrival_date_day_of_month  \\\n",
       "0                July                        27                          1   \n",
       "1                July                        27                          1   \n",
       "2                July                        27                          1   \n",
       "3                July                        27                          1   \n",
       "4                July                        27                          1   \n",
       "5                July                        27                          1   \n",
       "6                July                        27                          1   \n",
       "7                July                        27                          1   \n",
       "8                July                        27                          1   \n",
       "9                July                        27                          1   \n",
       "10               July                        27                          1   \n",
       "11               July                        27                          1   \n",
       "12               July                        27                          1   \n",
       "13               July                        27                          1   \n",
       "14               July                        27                          1   \n",
       "15               July                        27                          1   \n",
       "16               July                        27                          1   \n",
       "17               July                        27                          1   \n",
       "18               July                        27                          1   \n",
       "19               July                        27                          1   \n",
       "\n",
       "    stays_in_weekend_nights  stays_in_week_nights  adults  ...  deposit_type  \\\n",
       "0                         0                     0       2  ...    No Deposit   \n",
       "1                         0                     0       2  ...    No Deposit   \n",
       "2                         0                     1       1  ...    No Deposit   \n",
       "3                         0                     1       1  ...    No Deposit   \n",
       "4                         0                     2       2  ...    No Deposit   \n",
       "5                         0                     2       2  ...    No Deposit   \n",
       "6                         0                     2       2  ...    No Deposit   \n",
       "7                         0                     2       2  ...    No Deposit   \n",
       "8                         0                     3       2  ...    No Deposit   \n",
       "9                         0                     3       2  ...    No Deposit   \n",
       "10                        0                     4       2  ...    No Deposit   \n",
       "11                        0                     4       2  ...    No Deposit   \n",
       "12                        0                     4       2  ...    No Deposit   \n",
       "13                        0                     4       2  ...    No Deposit   \n",
       "14                        0                     4       2  ...    No Deposit   \n",
       "15                        0                     4       2  ...    No Deposit   \n",
       "16                        0                     4       2  ...    No Deposit   \n",
       "17                        0                     1       2  ...    No Deposit   \n",
       "18                        0                     1       2  ...    No Deposit   \n",
       "19                        0                     4       2  ...    No Deposit   \n",
       "\n",
       "    agent company days_in_waiting_list customer_type     adr  \\\n",
       "0     NaN     NaN                    0     Transient    0.00   \n",
       "1     NaN     NaN                    0     Transient    0.00   \n",
       "2     NaN     NaN                    0     Transient   75.00   \n",
       "3   304.0     NaN                    0     Transient   75.00   \n",
       "4   240.0     NaN                    0     Transient   98.00   \n",
       "5   240.0     NaN                    0     Transient   98.00   \n",
       "6     NaN     NaN                    0     Transient  107.00   \n",
       "7   303.0     NaN                    0     Transient  103.00   \n",
       "8   240.0     NaN                    0     Transient   82.00   \n",
       "9    15.0     NaN                    0     Transient  105.50   \n",
       "10  240.0     NaN                    0     Transient  123.00   \n",
       "11  240.0     NaN                    0     Transient  145.00   \n",
       "12  240.0     NaN                    0     Transient   97.00   \n",
       "13  241.0     NaN                    0     Transient  154.77   \n",
       "14  241.0     NaN                    0     Transient   94.71   \n",
       "15  240.0     NaN                    0     Transient   97.00   \n",
       "16    8.0     NaN                    0      Contract   97.50   \n",
       "17  240.0     NaN                    0     Transient   88.20   \n",
       "18    NaN   110.0                    0     Transient  107.42   \n",
       "19  250.0     NaN                    0     Transient  153.00   \n",
       "\n",
       "    required_car_parking_spaces  total_of_special_requests  \\\n",
       "0                             0                          0   \n",
       "1                             0                          0   \n",
       "2                             0                          0   \n",
       "3                             0                          0   \n",
       "4                             0                          1   \n",
       "5                             0                          1   \n",
       "6                             0                          0   \n",
       "7                             0                          1   \n",
       "8                             0                          1   \n",
       "9                             0                          0   \n",
       "10                            0                          0   \n",
       "11                            0                          0   \n",
       "12                            0                          3   \n",
       "13                            0                          1   \n",
       "14                            0                          0   \n",
       "15                            0                          3   \n",
       "16                            0                          0   \n",
       "17                            0                          0   \n",
       "18                            0                          0   \n",
       "19                            0                          1   \n",
       "\n",
       "    reservation_status reservation_status_date  \n",
       "0            Check-Out                1/7/2015  \n",
       "1            Check-Out                1/7/2015  \n",
       "2            Check-Out                2/7/2015  \n",
       "3            Check-Out                2/7/2015  \n",
       "4            Check-Out                3/7/2015  \n",
       "5            Check-Out                3/7/2015  \n",
       "6            Check-Out                3/7/2015  \n",
       "7            Check-Out                3/7/2015  \n",
       "8             Canceled                6/5/2015  \n",
       "9             Canceled               22/4/2015  \n",
       "10            Canceled               23/6/2015  \n",
       "11           Check-Out                5/7/2015  \n",
       "12           Check-Out                5/7/2015  \n",
       "13           Check-Out                5/7/2015  \n",
       "14           Check-Out                5/7/2015  \n",
       "15           Check-Out                5/7/2015  \n",
       "16           Check-Out                5/7/2015  \n",
       "17           Check-Out                2/7/2015  \n",
       "18           Check-Out                2/7/2015  \n",
       "19           Check-Out                5/7/2015  \n",
       "\n",
       "[20 rows x 32 columns]"
      ]
     },
     "execution_count": 3,
     "metadata": {},
     "output_type": "execute_result"
    }
   ],
   "source": [
    "df = pd.read_csv('Ritz_Jager_Data.csv')\n",
    "df.head(20)"
   ]
  },
  {
   "cell_type": "code",
   "execution_count": 4,
   "metadata": {},
   "outputs": [
    {
     "name": "stdout",
     "output_type": "stream",
     "text": [
      "<class 'pandas.core.frame.DataFrame'>\n",
      "RangeIndex: 119390 entries, 0 to 119389\n",
      "Data columns (total 32 columns):\n",
      " #   Column                          Non-Null Count   Dtype  \n",
      "---  ------                          --------------   -----  \n",
      " 0   hotel_type                      119390 non-null  object \n",
      " 1   is_canceled                     119390 non-null  int64  \n",
      " 2   lead_time                       119390 non-null  int64  \n",
      " 3   arrival_date_year               119390 non-null  int64  \n",
      " 4   arrival_date_month              119390 non-null  object \n",
      " 5   arrival_date_week_number        119390 non-null  int64  \n",
      " 6   arrival_date_day_of_month       119390 non-null  int64  \n",
      " 7   stays_in_weekend_nights         119390 non-null  int64  \n",
      " 8   stays_in_week_nights            119390 non-null  int64  \n",
      " 9   adults                          119390 non-null  int64  \n",
      " 10  children                        119386 non-null  float64\n",
      " 11  babies                          119390 non-null  int64  \n",
      " 12  meal_type                       119390 non-null  object \n",
      " 13  country_origin                  118902 non-null  object \n",
      " 14  market_segment                  119390 non-null  object \n",
      " 15  distribution_channel            119390 non-null  object \n",
      " 16  is_repeated_guest               119390 non-null  int64  \n",
      " 17  previous_cancellations          119390 non-null  int64  \n",
      " 18  previous_bookings_not_canceled  119390 non-null  int64  \n",
      " 19  reserved_room_type              119390 non-null  object \n",
      " 20  assigned_room_type              119390 non-null  object \n",
      " 21  booking_changes                 119390 non-null  int64  \n",
      " 22  deposit_type                    119390 non-null  object \n",
      " 23  agent                           103050 non-null  float64\n",
      " 24  company                         6797 non-null    float64\n",
      " 25  days_in_waiting_list            119390 non-null  int64  \n",
      " 26  customer_type                   119390 non-null  object \n",
      " 27  adr                             119390 non-null  float64\n",
      " 28  required_car_parking_spaces     119390 non-null  int64  \n",
      " 29  total_of_special_requests       119390 non-null  int64  \n",
      " 30  reservation_status              119390 non-null  object \n",
      " 31  reservation_status_date         119390 non-null  object \n",
      "dtypes: float64(4), int64(16), object(12)\n",
      "memory usage: 29.1+ MB\n"
     ]
    }
   ],
   "source": [
    "df.info()"
   ]
  },
  {
   "cell_type": "code",
   "execution_count": 5,
   "metadata": {},
   "outputs": [
    {
     "data": {
      "text/plain": [
       "hotel_type                             0\n",
       "is_canceled                            0\n",
       "lead_time                              0\n",
       "arrival_date_year                      0\n",
       "arrival_date_month                     0\n",
       "arrival_date_week_number               0\n",
       "arrival_date_day_of_month              0\n",
       "stays_in_weekend_nights                0\n",
       "stays_in_week_nights                   0\n",
       "adults                                 0\n",
       "children                               4\n",
       "babies                                 0\n",
       "meal_type                              0\n",
       "country_origin                       488\n",
       "market_segment                         0\n",
       "distribution_channel                   0\n",
       "is_repeated_guest                      0\n",
       "previous_cancellations                 0\n",
       "previous_bookings_not_canceled         0\n",
       "reserved_room_type                     0\n",
       "assigned_room_type                     0\n",
       "booking_changes                        0\n",
       "deposit_type                           0\n",
       "agent                              16340\n",
       "company                           112593\n",
       "days_in_waiting_list                   0\n",
       "customer_type                          0\n",
       "adr                                    0\n",
       "required_car_parking_spaces            0\n",
       "total_of_special_requests              0\n",
       "reservation_status                     0\n",
       "reservation_status_date                0\n",
       "dtype: int64"
      ]
     },
     "execution_count": 5,
     "metadata": {},
     "output_type": "execute_result"
    }
   ],
   "source": [
    "df.isnull().sum()"
   ]
  },
  {
   "cell_type": "code",
   "execution_count": 6,
   "metadata": {},
   "outputs": [
    {
     "data": {
      "text/html": [
       "<div>\n",
       "<style scoped>\n",
       "    .dataframe tbody tr th:only-of-type {\n",
       "        vertical-align: middle;\n",
       "    }\n",
       "\n",
       "    .dataframe tbody tr th {\n",
       "        vertical-align: top;\n",
       "    }\n",
       "\n",
       "    .dataframe thead th {\n",
       "        text-align: right;\n",
       "    }\n",
       "</style>\n",
       "<table border=\"1\" class=\"dataframe\">\n",
       "  <thead>\n",
       "    <tr style=\"text-align: right;\">\n",
       "      <th></th>\n",
       "      <th>variable</th>\n",
       "      <th>number_of_missing</th>\n",
       "      <th>percentage_of_missing</th>\n",
       "    </tr>\n",
       "  </thead>\n",
       "  <tbody>\n",
       "    <tr>\n",
       "      <th>0</th>\n",
       "      <td>company</td>\n",
       "      <td>112593</td>\n",
       "      <td>94.306893</td>\n",
       "    </tr>\n",
       "    <tr>\n",
       "      <th>1</th>\n",
       "      <td>agent</td>\n",
       "      <td>16340</td>\n",
       "      <td>13.686238</td>\n",
       "    </tr>\n",
       "    <tr>\n",
       "      <th>2</th>\n",
       "      <td>country_origin</td>\n",
       "      <td>488</td>\n",
       "      <td>0.408744</td>\n",
       "    </tr>\n",
       "    <tr>\n",
       "      <th>3</th>\n",
       "      <td>children</td>\n",
       "      <td>4</td>\n",
       "      <td>0.003350</td>\n",
       "    </tr>\n",
       "    <tr>\n",
       "      <th>4</th>\n",
       "      <td>reserved_room_type</td>\n",
       "      <td>0</td>\n",
       "      <td>0.000000</td>\n",
       "    </tr>\n",
       "    <tr>\n",
       "      <th>5</th>\n",
       "      <td>assigned_room_type</td>\n",
       "      <td>0</td>\n",
       "      <td>0.000000</td>\n",
       "    </tr>\n",
       "    <tr>\n",
       "      <th>6</th>\n",
       "      <td>booking_changes</td>\n",
       "      <td>0</td>\n",
       "      <td>0.000000</td>\n",
       "    </tr>\n",
       "    <tr>\n",
       "      <th>7</th>\n",
       "      <td>deposit_type</td>\n",
       "      <td>0</td>\n",
       "      <td>0.000000</td>\n",
       "    </tr>\n",
       "    <tr>\n",
       "      <th>8</th>\n",
       "      <td>hotel_type</td>\n",
       "      <td>0</td>\n",
       "      <td>0.000000</td>\n",
       "    </tr>\n",
       "    <tr>\n",
       "      <th>9</th>\n",
       "      <td>previous_cancellations</td>\n",
       "      <td>0</td>\n",
       "      <td>0.000000</td>\n",
       "    </tr>\n",
       "    <tr>\n",
       "      <th>10</th>\n",
       "      <td>days_in_waiting_list</td>\n",
       "      <td>0</td>\n",
       "      <td>0.000000</td>\n",
       "    </tr>\n",
       "    <tr>\n",
       "      <th>11</th>\n",
       "      <td>customer_type</td>\n",
       "      <td>0</td>\n",
       "      <td>0.000000</td>\n",
       "    </tr>\n",
       "    <tr>\n",
       "      <th>12</th>\n",
       "      <td>adr</td>\n",
       "      <td>0</td>\n",
       "      <td>0.000000</td>\n",
       "    </tr>\n",
       "    <tr>\n",
       "      <th>13</th>\n",
       "      <td>required_car_parking_spaces</td>\n",
       "      <td>0</td>\n",
       "      <td>0.000000</td>\n",
       "    </tr>\n",
       "    <tr>\n",
       "      <th>14</th>\n",
       "      <td>total_of_special_requests</td>\n",
       "      <td>0</td>\n",
       "      <td>0.000000</td>\n",
       "    </tr>\n",
       "    <tr>\n",
       "      <th>15</th>\n",
       "      <td>reservation_status</td>\n",
       "      <td>0</td>\n",
       "      <td>0.000000</td>\n",
       "    </tr>\n",
       "    <tr>\n",
       "      <th>16</th>\n",
       "      <td>previous_bookings_not_canceled</td>\n",
       "      <td>0</td>\n",
       "      <td>0.000000</td>\n",
       "    </tr>\n",
       "    <tr>\n",
       "      <th>17</th>\n",
       "      <td>is_repeated_guest</td>\n",
       "      <td>0</td>\n",
       "      <td>0.000000</td>\n",
       "    </tr>\n",
       "    <tr>\n",
       "      <th>18</th>\n",
       "      <td>is_canceled</td>\n",
       "      <td>0</td>\n",
       "      <td>0.000000</td>\n",
       "    </tr>\n",
       "    <tr>\n",
       "      <th>19</th>\n",
       "      <td>distribution_channel</td>\n",
       "      <td>0</td>\n",
       "      <td>0.000000</td>\n",
       "    </tr>\n",
       "    <tr>\n",
       "      <th>20</th>\n",
       "      <td>market_segment</td>\n",
       "      <td>0</td>\n",
       "      <td>0.000000</td>\n",
       "    </tr>\n",
       "    <tr>\n",
       "      <th>21</th>\n",
       "      <td>meal_type</td>\n",
       "      <td>0</td>\n",
       "      <td>0.000000</td>\n",
       "    </tr>\n",
       "    <tr>\n",
       "      <th>22</th>\n",
       "      <td>babies</td>\n",
       "      <td>0</td>\n",
       "      <td>0.000000</td>\n",
       "    </tr>\n",
       "    <tr>\n",
       "      <th>23</th>\n",
       "      <td>adults</td>\n",
       "      <td>0</td>\n",
       "      <td>0.000000</td>\n",
       "    </tr>\n",
       "    <tr>\n",
       "      <th>24</th>\n",
       "      <td>stays_in_week_nights</td>\n",
       "      <td>0</td>\n",
       "      <td>0.000000</td>\n",
       "    </tr>\n",
       "    <tr>\n",
       "      <th>25</th>\n",
       "      <td>stays_in_weekend_nights</td>\n",
       "      <td>0</td>\n",
       "      <td>0.000000</td>\n",
       "    </tr>\n",
       "    <tr>\n",
       "      <th>26</th>\n",
       "      <td>arrival_date_day_of_month</td>\n",
       "      <td>0</td>\n",
       "      <td>0.000000</td>\n",
       "    </tr>\n",
       "    <tr>\n",
       "      <th>27</th>\n",
       "      <td>arrival_date_week_number</td>\n",
       "      <td>0</td>\n",
       "      <td>0.000000</td>\n",
       "    </tr>\n",
       "    <tr>\n",
       "      <th>28</th>\n",
       "      <td>arrival_date_month</td>\n",
       "      <td>0</td>\n",
       "      <td>0.000000</td>\n",
       "    </tr>\n",
       "    <tr>\n",
       "      <th>29</th>\n",
       "      <td>arrival_date_year</td>\n",
       "      <td>0</td>\n",
       "      <td>0.000000</td>\n",
       "    </tr>\n",
       "    <tr>\n",
       "      <th>30</th>\n",
       "      <td>lead_time</td>\n",
       "      <td>0</td>\n",
       "      <td>0.000000</td>\n",
       "    </tr>\n",
       "    <tr>\n",
       "      <th>31</th>\n",
       "      <td>reservation_status_date</td>\n",
       "      <td>0</td>\n",
       "      <td>0.000000</td>\n",
       "    </tr>\n",
       "  </tbody>\n",
       "</table>\n",
       "</div>"
      ],
      "text/plain": [
       "                          variable  number_of_missing  percentage_of_missing\n",
       "0                          company             112593              94.306893\n",
       "1                            agent              16340              13.686238\n",
       "2                   country_origin                488               0.408744\n",
       "3                         children                  4               0.003350\n",
       "4               reserved_room_type                  0               0.000000\n",
       "5               assigned_room_type                  0               0.000000\n",
       "6                  booking_changes                  0               0.000000\n",
       "7                     deposit_type                  0               0.000000\n",
       "8                       hotel_type                  0               0.000000\n",
       "9           previous_cancellations                  0               0.000000\n",
       "10            days_in_waiting_list                  0               0.000000\n",
       "11                   customer_type                  0               0.000000\n",
       "12                             adr                  0               0.000000\n",
       "13     required_car_parking_spaces                  0               0.000000\n",
       "14       total_of_special_requests                  0               0.000000\n",
       "15              reservation_status                  0               0.000000\n",
       "16  previous_bookings_not_canceled                  0               0.000000\n",
       "17               is_repeated_guest                  0               0.000000\n",
       "18                     is_canceled                  0               0.000000\n",
       "19            distribution_channel                  0               0.000000\n",
       "20                  market_segment                  0               0.000000\n",
       "21                       meal_type                  0               0.000000\n",
       "22                          babies                  0               0.000000\n",
       "23                          adults                  0               0.000000\n",
       "24            stays_in_week_nights                  0               0.000000\n",
       "25         stays_in_weekend_nights                  0               0.000000\n",
       "26       arrival_date_day_of_month                  0               0.000000\n",
       "27        arrival_date_week_number                  0               0.000000\n",
       "28              arrival_date_month                  0               0.000000\n",
       "29               arrival_date_year                  0               0.000000\n",
       "30                       lead_time                  0               0.000000\n",
       "31         reservation_status_date                  0               0.000000"
      ]
     },
     "execution_count": 6,
     "metadata": {},
     "output_type": "execute_result"
    }
   ],
   "source": [
    "def missingvalue(data):\n",
    "    missing_value = data.isnull().sum(axis = 0).reset_index()\n",
    "    missing_value.columns = ['variable', 'number_of_missing']\n",
    "    missing_value['percentage_of_missing'] = (missing_value['number_of_missing'])/data.shape[0]*100\n",
    "    mv = missing_value.sort_values('percentage_of_missing', ascending = False).reset_index(drop=True)\n",
    "    return mv\n",
    "missingvalue(df)"
   ]
  },
  {
   "cell_type": "markdown",
   "metadata": {},
   "source": [
    "## Handling missing value"
   ]
  },
  {
   "cell_type": "markdown",
   "metadata": {},
   "source": [
    "The company column will be dropped because the number of missing values is more than 80%. The column agent and children have missing values less than 20% and are discrete variables, so they will be filled with mode. The country column has 0.4% missing values and is a categorical variable. This column will be filled with mode, because it will not change the meaning of the data."
   ]
  },
  {
   "cell_type": "code",
   "execution_count": 7,
   "metadata": {},
   "outputs": [
    {
     "data": {
      "text/html": [
       "<div>\n",
       "<style scoped>\n",
       "    .dataframe tbody tr th:only-of-type {\n",
       "        vertical-align: middle;\n",
       "    }\n",
       "\n",
       "    .dataframe tbody tr th {\n",
       "        vertical-align: top;\n",
       "    }\n",
       "\n",
       "    .dataframe thead th {\n",
       "        text-align: right;\n",
       "    }\n",
       "</style>\n",
       "<table border=\"1\" class=\"dataframe\">\n",
       "  <thead>\n",
       "    <tr style=\"text-align: right;\">\n",
       "      <th></th>\n",
       "      <th>variable</th>\n",
       "      <th>number_of_missing</th>\n",
       "      <th>percentage_of_missing</th>\n",
       "    </tr>\n",
       "  </thead>\n",
       "  <tbody>\n",
       "    <tr>\n",
       "      <th>0</th>\n",
       "      <td>hotel_type</td>\n",
       "      <td>0</td>\n",
       "      <td>0.0</td>\n",
       "    </tr>\n",
       "    <tr>\n",
       "      <th>1</th>\n",
       "      <td>is_repeated_guest</td>\n",
       "      <td>0</td>\n",
       "      <td>0.0</td>\n",
       "    </tr>\n",
       "    <tr>\n",
       "      <th>2</th>\n",
       "      <td>reservation_status</td>\n",
       "      <td>0</td>\n",
       "      <td>0.0</td>\n",
       "    </tr>\n",
       "    <tr>\n",
       "      <th>3</th>\n",
       "      <td>total_of_special_requests</td>\n",
       "      <td>0</td>\n",
       "      <td>0.0</td>\n",
       "    </tr>\n",
       "    <tr>\n",
       "      <th>4</th>\n",
       "      <td>required_car_parking_spaces</td>\n",
       "      <td>0</td>\n",
       "      <td>0.0</td>\n",
       "    </tr>\n",
       "    <tr>\n",
       "      <th>5</th>\n",
       "      <td>adr</td>\n",
       "      <td>0</td>\n",
       "      <td>0.0</td>\n",
       "    </tr>\n",
       "    <tr>\n",
       "      <th>6</th>\n",
       "      <td>customer_type</td>\n",
       "      <td>0</td>\n",
       "      <td>0.0</td>\n",
       "    </tr>\n",
       "    <tr>\n",
       "      <th>7</th>\n",
       "      <td>days_in_waiting_list</td>\n",
       "      <td>0</td>\n",
       "      <td>0.0</td>\n",
       "    </tr>\n",
       "    <tr>\n",
       "      <th>8</th>\n",
       "      <td>agent</td>\n",
       "      <td>0</td>\n",
       "      <td>0.0</td>\n",
       "    </tr>\n",
       "    <tr>\n",
       "      <th>9</th>\n",
       "      <td>deposit_type</td>\n",
       "      <td>0</td>\n",
       "      <td>0.0</td>\n",
       "    </tr>\n",
       "    <tr>\n",
       "      <th>10</th>\n",
       "      <td>booking_changes</td>\n",
       "      <td>0</td>\n",
       "      <td>0.0</td>\n",
       "    </tr>\n",
       "    <tr>\n",
       "      <th>11</th>\n",
       "      <td>assigned_room_type</td>\n",
       "      <td>0</td>\n",
       "      <td>0.0</td>\n",
       "    </tr>\n",
       "    <tr>\n",
       "      <th>12</th>\n",
       "      <td>reserved_room_type</td>\n",
       "      <td>0</td>\n",
       "      <td>0.0</td>\n",
       "    </tr>\n",
       "    <tr>\n",
       "      <th>13</th>\n",
       "      <td>previous_bookings_not_canceled</td>\n",
       "      <td>0</td>\n",
       "      <td>0.0</td>\n",
       "    </tr>\n",
       "    <tr>\n",
       "      <th>14</th>\n",
       "      <td>previous_cancellations</td>\n",
       "      <td>0</td>\n",
       "      <td>0.0</td>\n",
       "    </tr>\n",
       "    <tr>\n",
       "      <th>15</th>\n",
       "      <td>distribution_channel</td>\n",
       "      <td>0</td>\n",
       "      <td>0.0</td>\n",
       "    </tr>\n",
       "    <tr>\n",
       "      <th>16</th>\n",
       "      <td>is_canceled</td>\n",
       "      <td>0</td>\n",
       "      <td>0.0</td>\n",
       "    </tr>\n",
       "    <tr>\n",
       "      <th>17</th>\n",
       "      <td>market_segment</td>\n",
       "      <td>0</td>\n",
       "      <td>0.0</td>\n",
       "    </tr>\n",
       "    <tr>\n",
       "      <th>18</th>\n",
       "      <td>country_origin</td>\n",
       "      <td>0</td>\n",
       "      <td>0.0</td>\n",
       "    </tr>\n",
       "    <tr>\n",
       "      <th>19</th>\n",
       "      <td>meal_type</td>\n",
       "      <td>0</td>\n",
       "      <td>0.0</td>\n",
       "    </tr>\n",
       "    <tr>\n",
       "      <th>20</th>\n",
       "      <td>babies</td>\n",
       "      <td>0</td>\n",
       "      <td>0.0</td>\n",
       "    </tr>\n",
       "    <tr>\n",
       "      <th>21</th>\n",
       "      <td>children</td>\n",
       "      <td>0</td>\n",
       "      <td>0.0</td>\n",
       "    </tr>\n",
       "    <tr>\n",
       "      <th>22</th>\n",
       "      <td>adults</td>\n",
       "      <td>0</td>\n",
       "      <td>0.0</td>\n",
       "    </tr>\n",
       "    <tr>\n",
       "      <th>23</th>\n",
       "      <td>stays_in_week_nights</td>\n",
       "      <td>0</td>\n",
       "      <td>0.0</td>\n",
       "    </tr>\n",
       "    <tr>\n",
       "      <th>24</th>\n",
       "      <td>stays_in_weekend_nights</td>\n",
       "      <td>0</td>\n",
       "      <td>0.0</td>\n",
       "    </tr>\n",
       "    <tr>\n",
       "      <th>25</th>\n",
       "      <td>arrival_date_day_of_month</td>\n",
       "      <td>0</td>\n",
       "      <td>0.0</td>\n",
       "    </tr>\n",
       "    <tr>\n",
       "      <th>26</th>\n",
       "      <td>arrival_date_week_number</td>\n",
       "      <td>0</td>\n",
       "      <td>0.0</td>\n",
       "    </tr>\n",
       "    <tr>\n",
       "      <th>27</th>\n",
       "      <td>arrival_date_month</td>\n",
       "      <td>0</td>\n",
       "      <td>0.0</td>\n",
       "    </tr>\n",
       "    <tr>\n",
       "      <th>28</th>\n",
       "      <td>arrival_date_year</td>\n",
       "      <td>0</td>\n",
       "      <td>0.0</td>\n",
       "    </tr>\n",
       "    <tr>\n",
       "      <th>29</th>\n",
       "      <td>lead_time</td>\n",
       "      <td>0</td>\n",
       "      <td>0.0</td>\n",
       "    </tr>\n",
       "    <tr>\n",
       "      <th>30</th>\n",
       "      <td>reservation_status_date</td>\n",
       "      <td>0</td>\n",
       "      <td>0.0</td>\n",
       "    </tr>\n",
       "  </tbody>\n",
       "</table>\n",
       "</div>"
      ],
      "text/plain": [
       "                          variable  number_of_missing  percentage_of_missing\n",
       "0                       hotel_type                  0                    0.0\n",
       "1                is_repeated_guest                  0                    0.0\n",
       "2               reservation_status                  0                    0.0\n",
       "3        total_of_special_requests                  0                    0.0\n",
       "4      required_car_parking_spaces                  0                    0.0\n",
       "5                              adr                  0                    0.0\n",
       "6                    customer_type                  0                    0.0\n",
       "7             days_in_waiting_list                  0                    0.0\n",
       "8                            agent                  0                    0.0\n",
       "9                     deposit_type                  0                    0.0\n",
       "10                 booking_changes                  0                    0.0\n",
       "11              assigned_room_type                  0                    0.0\n",
       "12              reserved_room_type                  0                    0.0\n",
       "13  previous_bookings_not_canceled                  0                    0.0\n",
       "14          previous_cancellations                  0                    0.0\n",
       "15            distribution_channel                  0                    0.0\n",
       "16                     is_canceled                  0                    0.0\n",
       "17                  market_segment                  0                    0.0\n",
       "18                  country_origin                  0                    0.0\n",
       "19                       meal_type                  0                    0.0\n",
       "20                          babies                  0                    0.0\n",
       "21                        children                  0                    0.0\n",
       "22                          adults                  0                    0.0\n",
       "23            stays_in_week_nights                  0                    0.0\n",
       "24         stays_in_weekend_nights                  0                    0.0\n",
       "25       arrival_date_day_of_month                  0                    0.0\n",
       "26        arrival_date_week_number                  0                    0.0\n",
       "27              arrival_date_month                  0                    0.0\n",
       "28               arrival_date_year                  0                    0.0\n",
       "29                       lead_time                  0                    0.0\n",
       "30         reservation_status_date                  0                    0.0"
      ]
     },
     "execution_count": 7,
     "metadata": {},
     "output_type": "execute_result"
    }
   ],
   "source": [
    "#Drop column because missing value greater than 80%\n",
    "df.drop('company', axis = 1, inplace = True)\n",
    "#Fill agents, country_origin, and children with mode\n",
    "df['agent'].fillna(df['agent'].mode()[0], inplace=True)\n",
    "df['country_origin'].fillna(df['country_origin'].mode()[0], inplace=True)\n",
    "df['children'].fillna(df['children'].mode()[0], inplace=True)\n",
    "missingvalue(df)"
   ]
  },
  {
   "cell_type": "markdown",
   "metadata": {},
   "source": [
    "## 1. Where do the guests come from?"
   ]
  },
  {
   "cell_type": "code",
   "execution_count": 8,
   "metadata": {},
   "outputs": [],
   "source": [
    "df_nocancel = df[df['is_canceled']==False]\n",
    "df_nocancelrepeat = df[(df['is_canceled']==False) & (df['is_repeated_guest']==0)]"
   ]
  },
  {
   "cell_type": "code",
   "execution_count": 9,
   "metadata": {},
   "outputs": [
    {
     "name": "stdout",
     "output_type": "stream",
     "text": [
      "PRT    18764\n",
      "GBR     9570\n",
      "FRA     8409\n",
      "ESP     6307\n",
      "DEU     6044\n",
      "       ...  \n",
      "ZMB        1\n",
      "DMA        1\n",
      "SLE        1\n",
      "MAC        1\n",
      "PYF        1\n",
      "Name: country_origin, Length: 165, dtype: int64\n"
     ]
    }
   ],
   "source": [
    "print(df_nocancelrepeat['country_origin'].value_counts())"
   ]
  },
  {
   "cell_type": "code",
   "execution_count": 10,
   "metadata": {},
   "outputs": [
    {
     "data": {
      "image/png": "[encoded data removed]",
      "text/plain": [
       "<Figure size 576x360 with 1 Axes>"
      ]
     },
     "metadata": {
      "needs_background": "light"
     },
     "output_type": "display_data"
    }
   ],
   "source": [
    "plt.figure(figsize = (8,5))\n",
    "ax = sns.countplot(df_nocancelrepeat[\"country_origin\"], \n",
    "                   order = df_nocancelrepeat[\"country_origin\"].value_counts().iloc[:5].index, \n",
    "                   palette = \"deep\")\n",
    "ax.set_title(\"Top 5 Country Origin of Guests\", size = 14)\n",
    "ax.set_xlabel(\"Country Origin\", size = 12)\n",
    "ax.set_ylabel(\"Count\", size = 12)\n",
    "plt.show()"
   ]
  },
  {
   "cell_type": "markdown",
   "metadata": {},
   "source": [
    "## 2. How much do guests pay for a room per night?"
   ]
  },
  {
   "cell_type": "code",
   "execution_count": 11,
   "metadata": {},
   "outputs": [],
   "source": [
    "all_hotel = df[(df['is_canceled']== False) & (df['adr']>0)]\n",
    "rh = df[(df['is_canceled']== False) & (df['adr']>0) & (df['hotel_type']=='Resort Hotel')]\n",
    "ch = df[(df['is_canceled']== False) & (df['adr']>0) & (df['hotel_type']=='City Hotel')]\n"
   ]
  },
  {
   "cell_type": "code",
   "execution_count": 12,
   "metadata": {},
   "outputs": [
    {
     "name": "stdout",
     "output_type": "stream",
     "text": [
      "The average price for all hotel is $102.3669800732752\n",
      "The average price for Resort Hotel is $92.9344750619053\n",
      "The average price for City Hotel is $108.27313340272732\n"
     ]
    }
   ],
   "source": [
    "price_type = all_hotel.groupby('hotel_type')['adr'].mean()\n",
    "\n",
    "print('The average price for all hotel is ${}'.format(all_hotel['adr'].mean()))\n",
    "print('The average price for Resort Hotel is ${}'.format(rh['adr'].mean()))\n",
    "print('The average price for City Hotel is ${}'.format(ch['adr'].mean()))"
   ]
  },
  {
   "cell_type": "code",
   "execution_count": 13,
   "metadata": {},
   "outputs": [
    {
     "name": "stdout",
     "output_type": "stream",
     "text": [
      "The following is the average price for each room type for each hotel type:\n",
      "\n"
     ]
    },
    {
     "data": {
      "text/html": [
       "<div>\n",
       "<style scoped>\n",
       "    .dataframe tbody tr th:only-of-type {\n",
       "        vertical-align: middle;\n",
       "    }\n",
       "\n",
       "    .dataframe tbody tr th {\n",
       "        vertical-align: top;\n",
       "    }\n",
       "\n",
       "    .dataframe thead th {\n",
       "        text-align: right;\n",
       "    }\n",
       "</style>\n",
       "<table border=\"1\" class=\"dataframe\">\n",
       "  <thead>\n",
       "    <tr style=\"text-align: right;\">\n",
       "      <th></th>\n",
       "      <th></th>\n",
       "      <th>adr</th>\n",
       "    </tr>\n",
       "    <tr>\n",
       "      <th>hotel_type</th>\n",
       "      <th>assigned_room_type</th>\n",
       "      <th></th>\n",
       "    </tr>\n",
       "  </thead>\n",
       "  <tbody>\n",
       "    <tr>\n",
       "      <th rowspan=\"8\" valign=\"top\">City Hotel</th>\n",
       "      <th>A</th>\n",
       "      <td>99.078326</td>\n",
       "    </tr>\n",
       "    <tr>\n",
       "      <th>B</th>\n",
       "      <td>97.518135</td>\n",
       "    </tr>\n",
       "    <tr>\n",
       "      <th>C</th>\n",
       "      <td>110.417879</td>\n",
       "    </tr>\n",
       "    <tr>\n",
       "      <th>D</th>\n",
       "      <td>117.913473</td>\n",
       "    </tr>\n",
       "    <tr>\n",
       "      <th>E</th>\n",
       "      <td>142.225000</td>\n",
       "    </tr>\n",
       "    <tr>\n",
       "      <th>F</th>\n",
       "      <td>178.171620</td>\n",
       "    </tr>\n",
       "    <tr>\n",
       "      <th>G</th>\n",
       "      <td>196.841696</td>\n",
       "    </tr>\n",
       "    <tr>\n",
       "      <th>K</th>\n",
       "      <td>102.107391</td>\n",
       "    </tr>\n",
       "    <tr>\n",
       "      <th rowspan=\"9\" valign=\"top\">Resort Hotel</th>\n",
       "      <th>A</th>\n",
       "      <td>81.309890</td>\n",
       "    </tr>\n",
       "    <tr>\n",
       "      <th>B</th>\n",
       "      <td>105.815517</td>\n",
       "    </tr>\n",
       "    <tr>\n",
       "      <th>C</th>\n",
       "      <td>108.913320</td>\n",
       "    </tr>\n",
       "    <tr>\n",
       "      <th>D</th>\n",
       "      <td>82.425891</td>\n",
       "    </tr>\n",
       "    <tr>\n",
       "      <th>E</th>\n",
       "      <td>102.462598</td>\n",
       "    </tr>\n",
       "    <tr>\n",
       "      <th>F</th>\n",
       "      <td>120.389556</td>\n",
       "    </tr>\n",
       "    <tr>\n",
       "      <th>G</th>\n",
       "      <td>153.179443</td>\n",
       "    </tr>\n",
       "    <tr>\n",
       "      <th>H</th>\n",
       "      <td>162.198575</td>\n",
       "    </tr>\n",
       "    <tr>\n",
       "      <th>I</th>\n",
       "      <td>90.872089</td>\n",
       "    </tr>\n",
       "  </tbody>\n",
       "</table>\n",
       "</div>"
      ],
      "text/plain": [
       "                                        adr\n",
       "hotel_type   assigned_room_type            \n",
       "City Hotel   A                    99.078326\n",
       "             B                    97.518135\n",
       "             C                   110.417879\n",
       "             D                   117.913473\n",
       "             E                   142.225000\n",
       "             F                   178.171620\n",
       "             G                   196.841696\n",
       "             K                   102.107391\n",
       "Resort Hotel A                    81.309890\n",
       "             B                   105.815517\n",
       "             C                   108.913320\n",
       "             D                    82.425891\n",
       "             E                   102.462598\n",
       "             F                   120.389556\n",
       "             G                   153.179443\n",
       "             H                   162.198575\n",
       "             I                    90.872089"
      ]
     },
     "execution_count": 13,
     "metadata": {},
     "output_type": "execute_result"
    }
   ],
   "source": [
    "price_room = pd.pivot_table(all_hotel, index = ['hotel_type', 'assigned_room_type'], values = 'adr', aggfunc = np.mean )\n",
    "print('The following is the average price for each room type for each hotel type:\\n')\n",
    "price_room"
   ]
  },
  {
   "cell_type": "code",
   "execution_count": 14,
   "metadata": {},
   "outputs": [
    {
     "data": {
      "image/png": "[encoded data removed]",
      "text/plain": [
       "<Figure size 576x360 with 1 Axes>"
      ]
     },
     "metadata": {
      "needs_background": "light"
     },
     "output_type": "display_data"
    }
   ],
   "source": [
    "plt.figure(figsize = (8,5))\n",
    "ax = sns.barplot(x='assigned_room_type', y='adr', data = price_room.reset_index(), hue= 'hotel_type',\n",
    "                 palette = \"colorblind\", hue_order = [\"Resort Hotel\", \"City Hotel\"])\n",
    "ax.set_title(\"Price of Room Types per Night\", size = 14)\n",
    "ax.set_xlabel(\"Room Type\", size = 12)\n",
    "ax.set_ylabel(\"Price per Room\", size = 12)\n",
    "ax.legend().set_title(\"Hotel Type\")\n",
    "plt.show()"
   ]
  },
  {
   "cell_type": "markdown",
   "metadata": {},
   "source": [
    "## 3. How does the price per night vary over the year?"
   ]
  },
  {
   "cell_type": "code",
   "execution_count": 15,
   "metadata": {},
   "outputs": [],
   "source": [
    "hotel_price_df = all_hotel[(all_hotel.loc[:,'adults'] > 0) & \n",
    "                          (all_hotel.loc[:,'children'] > 0)]\n",
    "#Create new feature [Total Guests]\n",
    "hotel_price_df.loc[:,'total guests'] = hotel_price_df.loc[:,'adults'] + hotel_price_df.loc[:,'children']\n",
    "\n",
    "#Create new feature [Guest Pay]\n",
    "hotel_price_df.loc[:,'guests pay'] = hotel_price_df.loc[:,'adr'] / hotel_price_df.loc[:,'total guests']"
   ]
  },
  {
   "cell_type": "code",
   "execution_count": 16,
   "metadata": {},
   "outputs": [
    {
     "data": {
      "text/plain": [
       "arrival_date_year\n",
       "2015    41.217742\n",
       "2016    44.494974\n",
       "2017    50.872834\n",
       "Name: guests pay, dtype: float64"
      ]
     },
     "execution_count": 16,
     "metadata": {},
     "output_type": "execute_result"
    }
   ],
   "source": [
    "#Price changes every year\n",
    "price_change = hotel_price_df.groupby('arrival_date_year')['guests pay'].mean()\n",
    "price_change"
   ]
  },
  {
   "cell_type": "code",
   "execution_count": 17,
   "metadata": {},
   "outputs": [
    {
     "data": {
      "image/png": "[encoded data removed]",
      "text/plain": [
       "<Figure size 576x360 with 1 Axes>"
      ]
     },
     "metadata": {
      "needs_background": "light"
     },
     "output_type": "display_data"
    }
   ],
   "source": [
    "plt.figure(figsize = (8,5))\n",
    "ax = sns.barplot(x = 'arrival_date_year', y = 'guests pay', data = price_change.reset_index(), palette = \"deep\")\n",
    "ax.set_title(\"Average Hotel Price per Year [2015-2017]\", size = 14)\n",
    "ax.set_xlabel(\"Year\", size = 12)\n",
    "ax.set_ylabel(\"Price per Guest\", size = 12)\n",
    "plt.show()"
   ]
  },
  {
   "cell_type": "code",
   "execution_count": 18,
   "metadata": {},
   "outputs": [
    {
     "data": {
      "text/plain": [
       "arrival_date_month\n",
       "January      32.883312\n",
       "February     33.389325\n",
       "March        36.088138\n",
       "April        44.343443\n",
       "May          45.732996\n",
       "June         49.461121\n",
       "July         52.083551\n",
       "August       56.410046\n",
       "September    47.381230\n",
       "October      38.218525\n",
       "November     29.931883\n",
       "December     37.164883\n",
       "Name: guests pay, dtype: float64"
      ]
     },
     "execution_count": 18,
     "metadata": {},
     "output_type": "execute_result"
    }
   ],
   "source": [
    "#Price per room changes every month\n",
    "hotel_price_df.loc[:,'arrival_date_month'] = pd.Categorical(hotel_price_df.loc[:,'arrival_date_month'] ,ordered=True,\n",
    "                                                         categories=['January','February','March','April',\n",
    "                                                                     'May','June','July','August','September',\n",
    "                                                                     'October','November','December'])\n",
    "price_change_month = hotel_price_df.groupby('arrival_date_month')['guests pay'].mean()\n",
    "price_change_month"
   ]
  },
  {
   "cell_type": "code",
   "execution_count": 19,
   "metadata": {},
   "outputs": [
    {
     "data": {
      "image/png": "[encoded data removed]",
      "text/plain": [
       "<Figure size 576x360 with 1 Axes>"
      ]
     },
     "metadata": {
      "needs_background": "light"
     },
     "output_type": "display_data"
    }
   ],
   "source": [
    "#Price per room changes every month\n",
    "plt.figure(figsize = (8,5))\n",
    "ax = sns.lineplot(x='arrival_date_month', y='guests pay', \n",
    "                  data= hotel_price_df.groupby('arrival_date_month')['guests pay'].mean().reset_index())\n",
    "ax.set_title(\"Average Hotel Price per Year [2015-2017]\", size = 14)\n",
    "ax.set_xlabel(\"Year\", size = 12)\n",
    "ax.set_ylabel(\"Price per Guest\", size = 12)\n",
    "plt.xticks(rotation=90)\n",
    "plt.show()"
   ]
  },
  {
   "cell_type": "markdown",
   "metadata": {},
   "source": [
    "The average hotel price increased significantly from May to August. The highest hotel prices occur in August, because it is summer season and many people are on vacation.\n",
    "Average hotel prices fell significantly from August to November, due to autumn season. There is an increase in hotel prices from November to December, as some people go on year-end holidays."
   ]
  },
  {
   "cell_type": "markdown",
   "metadata": {},
   "source": [
    "## 4. Which are the busiest month?"
   ]
  },
  {
   "cell_type": "code",
   "execution_count": 20,
   "metadata": {},
   "outputs": [],
   "source": [
    "def busiest_month(data, hotel):\n",
    "    if hotel != \"All Hotel\":\n",
    "        data = data[data[\"hotel_type\"] == hotel]\n",
    "    count_month = data['arrival_date_month'].value_counts()\n",
    "    print(\"The following is the number of guests each month:\")\n",
    "    print(count_month)\n",
    "    plt.figure(figsize =(16,8))\n",
    "    ax = sns.countplot('arrival_date_month', data = data, order =['January','February','March','April','May',\n",
    "                                                                  'June','July','August','September','October',\n",
    "                                                                  'November','December'])\n",
    "    for p in ax.patches:\n",
    "        if p.get_bbox().get_points()[1,1]== max(count_month):\n",
    "            p.set_color('tomato')\n",
    "        elif p.get_bbox().get_points()[1,1]== min(count_month):\n",
    "            p.set_color('aquamarine')\n",
    "        else:\n",
    "            p.set_color('tan');\n",
    "    ax.set_title(\"Busiest Month for {}\".format(hotel), size = 16)\n",
    "    ax.set_xlabel(\"Month\", size = 12)\n",
    "    ax.set_ylabel(\"Number of Guests\", size = 12)\n",
    "    plt.show()\n",
    "    plt.show()"
   ]
  },
  {
   "cell_type": "markdown",
   "metadata": {},
   "source": [
    "### All hotel"
   ]
  },
  {
   "cell_type": "code",
   "execution_count": 21,
   "metadata": {},
   "outputs": [
    {
     "name": "stdout",
     "output_type": "stream",
     "text": [
      "The following is the number of guests each month:\n",
      "August       8638\n",
      "July         7919\n",
      "May          7114\n",
      "October      6914\n",
      "March        6645\n",
      "April        6565\n",
      "June         6404\n",
      "September    6392\n",
      "February     5372\n",
      "November     4672\n",
      "December     4409\n",
      "January      4122\n",
      "Name: arrival_date_month, dtype: int64\n"
     ]
    },
    {
     "data": {
      "image/png": "[encoded data removed]",
      "text/plain": [
       "<Figure size 1152x576 with 1 Axes>"
      ]
     },
     "metadata": {
      "needs_background": "light"
     },
     "output_type": "display_data"
    }
   ],
   "source": [
    "busiest_month(df_nocancel, \"All Hotel\")"
   ]
  },
  {
   "cell_type": "markdown",
   "metadata": {},
   "source": [
    "### City Hotel"
   ]
  },
  {
   "cell_type": "code",
   "execution_count": 22,
   "metadata": {},
   "outputs": [
    {
     "name": "stdout",
     "output_type": "stream",
     "text": [
      "The following is the number of guests each month:\n",
      "August       5381\n",
      "July         4782\n",
      "May          4579\n",
      "June         4366\n",
      "October      4337\n",
      "September    4290\n",
      "March        4072\n",
      "April        4015\n",
      "February     3064\n",
      "November     2696\n",
      "December     2392\n",
      "January      2254\n",
      "Name: arrival_date_month, dtype: int64\n"
     ]
    },
    {
     "data": {
      "image/png": "[encoded data removed]",
      "text/plain": [
       "<Figure size 1152x576 with 1 Axes>"
      ]
     },
     "metadata": {
      "needs_background": "light"
     },
     "output_type": "display_data"
    }
   ],
   "source": [
    "busiest_month(df_nocancel, \"City Hotel\")"
   ]
  },
  {
   "cell_type": "markdown",
   "metadata": {},
   "source": [
    "### Resort Hotel"
   ]
  },
  {
   "cell_type": "code",
   "execution_count": 23,
   "metadata": {},
   "outputs": [
    {
     "name": "stdout",
     "output_type": "stream",
     "text": [
      "The following is the number of guests each month:\n",
      "August       3257\n",
      "July         3137\n",
      "October      2577\n",
      "March        2573\n",
      "April        2550\n",
      "May          2535\n",
      "February     2308\n",
      "September    2102\n",
      "June         2038\n",
      "December     2017\n",
      "November     1976\n",
      "January      1868\n",
      "Name: arrival_date_month, dtype: int64\n"
     ]
    },
    {
     "data": {
      "image/png": "[encoded data removed]",
      "text/plain": [
       "<Figure size 1152x576 with 1 Axes>"
      ]
     },
     "metadata": {
      "needs_background": "light"
     },
     "output_type": "display_data"
    }
   ],
   "source": [
    "busiest_month(df_nocancel, \"Resort Hotel\")"
   ]
  },
  {
   "cell_type": "markdown",
   "metadata": {},
   "source": [
    "The busiest month for all hotel types is August, as many take summer vacations. And the least busy month is January. If the hotel wants to provide a promo, it's best not in August, because even though hotel prices are highest in August, the number of guests is still the highest. January can be the right choice to give promotions because hotels are not too busy."
   ]
  },
  {
   "cell_type": "markdown",
   "metadata": {},
   "source": [
    "## 5. How long do people stay at the hotels?"
   ]
  },
  {
   "cell_type": "code",
   "execution_count": 24,
   "metadata": {},
   "outputs": [],
   "source": [
    "#Creating a new column that defines how long people stay in hotel\n",
    "df_nocancel.loc[:,'total_stay'] = df_nocancel.loc[:, 'stays_in_weekend_nights'] + df_nocancel.loc[:, 'stays_in_week_nights']\n",
    "\n",
    "#Creating \"stay\" function\n",
    "def stay(data, hotel):\n",
    "    if hotel == \"all hotel\":\n",
    "        avg_stay = data[\"total_stay\"].mean()\n",
    "    else:\n",
    "        avg_stay = data[df[\"hotel_type\"]==hotel]['total_stay'].mean()\n",
    "    print(\"The average person stays at {} for {} day\".format(hotel, int(avg_stay)))"
   ]
  },
  {
   "cell_type": "code",
   "execution_count": 25,
   "metadata": {},
   "outputs": [
    {
     "name": "stdout",
     "output_type": "stream",
     "text": [
      "The average person stays at all hotel for 3 day\n"
     ]
    }
   ],
   "source": [
    "stay(df_nocancel, \"all hotel\")"
   ]
  },
  {
   "cell_type": "code",
   "execution_count": 26,
   "metadata": {},
   "outputs": [
    {
     "name": "stdout",
     "output_type": "stream",
     "text": [
      "The average person stays at City Hotel for 2 day\n"
     ]
    }
   ],
   "source": [
    "stay(df_nocancel, \"City Hotel\")"
   ]
  },
  {
   "cell_type": "code",
   "execution_count": 27,
   "metadata": {},
   "outputs": [
    {
     "name": "stdout",
     "output_type": "stream",
     "text": [
      "The average person stays at Resort Hotel for 4 day\n"
     ]
    }
   ],
   "source": [
    "stay(df_nocancel, \"Resort Hotel\")"
   ]
  },
  {
   "cell_type": "markdown",
   "metadata": {},
   "source": [
    "Guests stay at Resort Hotels longer than City Hotels, maybe because Resort Hotel prices are also cheaper than City Hotels (Question No.2)"
   ]
  },
  {
   "cell_type": "markdown",
   "metadata": {},
   "source": [
    "## 6. Bookings by market segment"
   ]
  },
  {
   "cell_type": "code",
   "execution_count": 28,
   "metadata": {},
   "outputs": [
    {
     "name": "stdout",
     "output_type": "stream",
     "text": [
      "Here is the number of bookings by market segment:\n",
      "Online TA        56477\n",
      "Offline TA/TO    24219\n",
      "Groups           19811\n",
      "Direct           12606\n",
      "Corporate         5295\n",
      "Complementary      743\n",
      "Aviation           237\n",
      "Undefined            2\n",
      "Name: market_segment, dtype: int64\n"
     ]
    }
   ],
   "source": [
    "market_segment = df['market_segment'].value_counts()\n",
    "print(\"Here is the number of bookings by market segment:\")\n",
    "print(market_segment)"
   ]
  },
  {
   "cell_type": "code",
   "execution_count": 29,
   "metadata": {},
   "outputs": [
    {
     "data": {
      "image/png": "[encoded data removed]",
      "text/plain": [
       "<Figure size 576x360 with 1 Axes>"
      ]
     },
     "metadata": {
      "needs_background": "light"
     },
     "output_type": "display_data"
    }
   ],
   "source": [
    "plt.figure(figsize = (8,5))\n",
    "ax = sns.countplot(df[\"market_segment\"], order=df[\"market_segment\"].value_counts().iloc[:5].index, palette = \"deep\")\n",
    "ax.set_title(\"Top 5 Booking Frequency by Market Segment\", size = 14)\n",
    "ax.set_xlabel(\"Market Segment\", size = 12)\n",
    "ax.set_ylabel(\"Number of Booking\", size = 12)\n",
    "plt.show()"
   ]
  },
  {
   "cell_type": "code",
   "execution_count": 30,
   "metadata": {},
   "outputs": [
    {
     "data": {
      "image/png": "[encoded data removed]",
      "text/plain": [
       "<Figure size 576x360 with 1 Axes>"
      ]
     },
     "metadata": {
      "needs_background": "light"
     },
     "output_type": "display_data"
    }
   ],
   "source": [
    "plt.figure(figsize = (8,5))\n",
    "ax = sns.countplot(\"market_segment\", data= df[df[\"is_canceled\"]==True], \n",
    "                   order=df[\"market_segment\"].value_counts().iloc[:5].index, palette = \"deep\")\n",
    "ax.set_title(\"Top 5 Cancelation Booking Frequency by Market Segment\", size = 14)\n",
    "ax.set_xlabel(\"Market Segment\", size = 12)\n",
    "ax.set_ylabel(\"Number of Booking\", size = 12)\n",
    "plt.show()"
   ]
  },
  {
   "cell_type": "markdown",
   "metadata": {},
   "source": [
    "Most guests make hotel bookings on Online TA. Most guests also cancel the most on Online TA. Offline TA / TO is the second market segment that is widely used for hotel bookings, but cancellations are only the third."
   ]
  },
  {
   "cell_type": "markdown",
   "metadata": {},
   "source": [
    "## 7. How many bookings were cancelled?"
   ]
  },
  {
   "cell_type": "code",
   "execution_count": 31,
   "metadata": {},
   "outputs": [],
   "source": [
    "def book_cancel(data, hotel):\n",
    "    if hotel != 'all_hotel':\n",
    "        data = data[data['hotel_type']==hotel]\n",
    "    hotel_cancel = data[data['is_canceled']==True].shape[0]\n",
    "    all_data = data.shape[0]\n",
    "    percent_cancel = round((hotel_cancel / all_data *100) ,3)\n",
    "    print('The number of guests who canceled their bookings for {} was {} out of {} total bookings or {}% of the total bookings.'.format(hotel, hotel_cancel, all_data, percent_cancel))"
   ]
  },
  {
   "cell_type": "code",
   "execution_count": 32,
   "metadata": {},
   "outputs": [
    {
     "name": "stdout",
     "output_type": "stream",
     "text": [
      "The number of guests who canceled their bookings for all_hotel was 44224 out of 119390 total bookings or 37.042% of the total bookings.\n"
     ]
    }
   ],
   "source": [
    "book_cancel(df, \"all_hotel\")"
   ]
  },
  {
   "cell_type": "code",
   "execution_count": 33,
   "metadata": {},
   "outputs": [
    {
     "name": "stdout",
     "output_type": "stream",
     "text": [
      "The number of guests who canceled their bookings for City Hotel was 33102 out of 79330 total bookings or 41.727% of the total bookings.\n"
     ]
    }
   ],
   "source": [
    "book_cancel(df, \"City Hotel\")"
   ]
  },
  {
   "cell_type": "code",
   "execution_count": 34,
   "metadata": {},
   "outputs": [
    {
     "name": "stdout",
     "output_type": "stream",
     "text": [
      "The number of guests who canceled their bookings for Resort Hotel was 11122 out of 40060 total bookings or 27.763% of the total bookings.\n"
     ]
    }
   ],
   "source": [
    "book_cancel(df, \"Resort Hotel\")"
   ]
  },
  {
   "cell_type": "code",
   "execution_count": 35,
   "metadata": {},
   "outputs": [
    {
     "data": {
      "image/png": "[encoded data removed]",
      "text/plain": [
       "<Figure size 576x360 with 1 Axes>"
      ]
     },
     "metadata": {
      "needs_background": "light"
     },
     "output_type": "display_data"
    }
   ],
   "source": [
    "plt.figure(figsize = (8,5))\n",
    "ax = sns.countplot(x=\"is_canceled\", data=df, palette = \"colorblind\")\n",
    "ax.set_title(\"Comparison of Canceled and Non-canceled Bookings\", size = 14)\n",
    "ax.set_xlabel(\"Booking Status\", size = 12)\n",
    "ax.set_ylabel(\"Number of Booking\", size = 12)\n",
    "ax.set_xticks([0,1])\n",
    "ax.set_xticklabels(['Not Canceled', 'Canceled'])\n",
    "plt.show()"
   ]
  },
  {
   "cell_type": "markdown",
   "metadata": {},
   "source": [
    "## 8. Which month has the highest number of cancellations?"
   ]
  },
  {
   "cell_type": "code",
   "execution_count": 36,
   "metadata": {},
   "outputs": [],
   "source": [
    "df_cancel = df[df['is_canceled']==True]\n"
   ]
  },
  {
   "cell_type": "code",
   "execution_count": 37,
   "metadata": {},
   "outputs": [],
   "source": [
    "def cancel(data,hotel):\n",
    "    if hotel == \"all hotel\":\n",
    "        cancel_count = data['arrival_date_month'].value_counts()\n",
    "    else:\n",
    "        cancel_count = data[df['hotel_type']== hotel]['arrival_date_month'].value_counts()\n",
    "        data = data[data['hotel_type']== hotel]\n",
    "    print(\"This is the number of cancellations {} in each month:\".format(hotel))\n",
    "    print(cancel_count)\n",
    "    plt.figure(figsize =(16,8))\n",
    "    ax= sns.countplot('arrival_date_month', data = data, order =['January','February','March',\n",
    "                                                                      'April','May','June','July',\n",
    "                                                                      'August','September','October',\n",
    "                                                                      'November','December'])\n",
    "    for p in ax.patches:\n",
    "        if p.get_bbox().get_points()[1,1]== max(cancel_count):\n",
    "            p.set_color('tomato')\n",
    "        elif p.get_bbox().get_points()[1,1]== min(cancel_count):\n",
    "            p.set_color('aquamarine')\n",
    "        else:\n",
    "            p.set_color('tan');\n",
    "    ax.set_title(\"Cancelations {} per Month [2015-2017]\".format(hotel), size = 16)\n",
    "    ax.set_xlabel(\"Month\", size = 12)\n",
    "    ax.set_ylabel(\"Number of Cancelations\", size = 12)\n",
    "    plt.show()"
   ]
  },
  {
   "cell_type": "code",
   "execution_count": 38,
   "metadata": {},
   "outputs": [
    {
     "name": "stdout",
     "output_type": "stream",
     "text": [
      "This is the number of cancellations all hotel in each month:\n",
      "August       5239\n",
      "July         4742\n",
      "May          4677\n",
      "June         4535\n",
      "April        4524\n",
      "October      4246\n",
      "September    4116\n",
      "March        3149\n",
      "February     2696\n",
      "December     2371\n",
      "November     2122\n",
      "January      1807\n",
      "Name: arrival_date_month, dtype: int64\n"
     ]
    },
    {
     "data": {
      "image/png": "[encoded data removed]",
      "text/plain": [
       "<Figure size 1152x576 with 1 Axes>"
      ]
     },
     "metadata": {
      "needs_background": "light"
     },
     "output_type": "display_data"
    }
   ],
   "source": [
    "cancel(df_cancel,'all hotel')"
   ]
  },
  {
   "cell_type": "code",
   "execution_count": 39,
   "metadata": {},
   "outputs": [
    {
     "name": "stdout",
     "output_type": "stream",
     "text": [
      "This is the number of cancellations City Hotel in each month:\n",
      "May          3653\n",
      "August       3602\n",
      "June         3528\n",
      "April        3465\n",
      "July         3306\n",
      "October      3268\n",
      "September    3110\n",
      "March        2386\n",
      "February     1901\n",
      "December     1740\n",
      "November     1661\n",
      "January      1482\n",
      "Name: arrival_date_month, dtype: int64\n"
     ]
    },
    {
     "data": {
      "image/png": "[encoded data removed]",
      "text/plain": [
       "<Figure size 1152x576 with 1 Axes>"
      ]
     },
     "metadata": {
      "needs_background": "light"
     },
     "output_type": "display_data"
    }
   ],
   "source": [
    "cancel(df_cancel, 'City Hotel')"
   ]
  },
  {
   "cell_type": "code",
   "execution_count": 40,
   "metadata": {
    "scrolled": false
   },
   "outputs": [
    {
     "name": "stdout",
     "output_type": "stream",
     "text": [
      "This is the number of cancellations Resort Hotel in each month:\n",
      "August       1637\n",
      "July         1436\n",
      "April        1059\n",
      "May          1024\n",
      "June         1007\n",
      "September    1006\n",
      "October       978\n",
      "February      795\n",
      "March         763\n",
      "December      631\n",
      "November      461\n",
      "January       325\n",
      "Name: arrival_date_month, dtype: int64\n"
     ]
    },
    {
     "data": {
      "image/png": "[encoded data removed]",
      "text/plain": [
       "<Figure size 1152x576 with 1 Axes>"
      ]
     },
     "metadata": {
      "needs_background": "light"
     },
     "output_type": "display_data"
    }
   ],
   "source": [
    "cancel(df_cancel, 'Resort Hotel')"
   ]
  },
  {
   "cell_type": "markdown",
   "metadata": {},
   "source": [
    "Many people cancel bookings for bookings in May at the City Hotel. While at Resort Hotels, many people cancel bookings for bookings in August."
   ]
  }
 ],
 "metadata": {
  "kernelspec": {
   "display_name": "Python 3",
   "language": "python",
   "name": "python3"
  },
  "language_info": {
   "codemirror_mode": {
    "name": "ipython",
    "version": 3
   },
   "file_extension": ".py",
   "mimetype": "text/x-python",
   "name": "python",
   "nbconvert_exporter": "python",
   "pygments_lexer": "ipython3",
   "version": "3.8.3"
  }
 },
 "nbformat": 4,
 "nbformat_minor": 4
}
